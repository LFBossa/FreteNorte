{
 "cells": [
  {
   "cell_type": "code",
   "execution_count": 1,
   "metadata": {},
   "outputs": [],
   "source": [
    "import firebase_admin\n",
    "from firebase_admin import credentials\n",
    "from firebase_admin import firestore, auth\n",
    "from datetime import datetime\n",
    "import json \n",
    "from dotenv import load_dotenv\n",
    "from random import randint\n",
    "import os\n",
    "\n",
    "\n",
    "load_dotenv()\n",
    "\n",
    "cred = credentials.Certificate(os.getenv(\"firebase_secret\"))\n",
    "app = firebase_admin.initialize_app(cred)\n",
    "\n",
    "\n",
    "db = firestore.client()"
   ]
  },
  {
   "cell_type": "code",
   "execution_count": 12,
   "metadata": {},
   "outputs": [],
   "source": [
    "from firebase_admin.firestore import FieldFilter"
   ]
  },
  {
   "cell_type": "code",
   "execution_count": 4,
   "metadata": {},
   "outputs": [
    {
     "name": "stderr",
     "output_type": "stream",
     "text": [
      "/home/bossa/.local/share/virtualenvs/pythonSDK-zBAoyeeM/lib/python3.10/site-packages/google/cloud/firestore_v1/base_collection.py:290: UserWarning: Detected filter using positional arguments. Prefer using the 'filter' keyword argument instead.\n",
      "  return query.where(field_path, op_string, value)\n"
     ]
    }
   ],
   "source": [
    "nao_permanentes = db.collection(\"items\").where(\"tipo\", \"!=\", \"Permanente\")"
   ]
  },
  {
   "cell_type": "code",
   "execution_count": 8,
   "metadata": {},
   "outputs": [],
   "source": [
    "for doc in nao_permanentes.stream():\n",
    "    db.collection(\"items\").document(doc.id).delete()"
   ]
  },
  {
   "cell_type": "code",
   "execution_count": 14,
   "metadata": {},
   "outputs": [],
   "source": [
    "import json\n",
    "with open(\"json/permanentes.json\") as fp:\n",
    "    permanentes = json.load(fp)"
   ]
  },
  {
   "cell_type": "code",
   "execution_count": 19,
   "metadata": {},
   "outputs": [],
   "source": [
    "def find_permanente_by_key(key: int):\n",
    "    pesquisa = [ x for x in permanentes if x['key'] == key ]\n",
    "    if len(pesquisa) > 0:\n",
    "        return pesquisa[0]\n",
    "    else:\n",
    "        return None"
   ]
  },
  {
   "cell_type": "code",
   "execution_count": 22,
   "metadata": {},
   "outputs": [
    {
     "name": "stdout",
     "output_type": "stream",
     "text": [
      "{'responsavel': 'Carolina Suelen da Silva', 'ambiente': 'C105.2', 'edificio': 'BNU07 - Bloco Administrativo C', 'detalhes': {'patrimonio': 1001346, 'n_controle': nan, 'cod_barras': 395194, 'n_serie': nan, 'descricao': 'IMPRESSORA LASER - IMPRESSORA LASER MONOCROMÁTICA', 'conservacao': 'EM USO', 'incorporacao': '16/05/2019', 'transf_local': nan, 'valor': 189.3, 'situacao': 'Ativo', 'peso': '', 'medidas': ''}, 'key': 1001346, 'meta': {'inteiro': True, 'updated': '07/08/2023 17:02:55', 'partes': [], 'volumado': False, 'volume': None}, 'tipo': 'Permanente', 'short_descricao': 'IMPRESSORA LASER'}\n",
      "{'responsavel': 'Carolina Suelen da Silva', 'ambiente': 'C105.3', 'edificio': 'BNU07 - Bloco Administrativo C', 'detalhes': {'patrimonio': 508390, 'n_controle': nan, 'cod_barras': 317109, 'n_serie': nan, 'descricao': 'ESTAÇÃO DE TRABALHO IX - ESTAÇÃO DE TRABALHO IX, EM MADEIRA MDF, REVESTIDA NA COR CINZA E ESTRUTURA METÁLICA PINTADA NA MESMA COR, 2 GAVETAS, CHAVES DUPLAS. DIMENSÕES: 150X150X60X75CM.', 'conservacao': 'EM USO', 'incorporacao': '08/04/2014', 'transf_local': '18/04/2018', 'valor': 482.75, 'situacao': 'Ativo', 'peso': '', 'medidas': '150X60X75CM'}, 'key': 508390, 'meta': {'inteiro': True, 'updated': '07/08/2023 17:02:55', 'partes': [], 'volumado': False, 'volume': None}, 'tipo': 'Permanente', 'short_descricao': 'ESTAÇÃO DE TRABALHO IX'}\n",
      "{'responsavel': 'Ana Julia Dal Forno', 'ambiente': 'B123', 'edificio': 'BNU03 - Bloco Acadêmico B', 'detalhes': {'patrimonio': 533245, 'n_controle': nan, 'cod_barras': 353341, 'n_serie': '4715B18367611/000001232595', 'descricao': 'CONDICIONADOR DE AR SPLIT INVERTER - HI-WALL COM ROTAÇÃO VARIÁVEL - CAPACIDADE 22.000 A 24.000 BTU/H, FRIO, COM INSTALAÇÃO INCLUSA - CONDICIONADOR DE AR SPLIT HIWALL, 22.000 BTUS, MARCA MIDEA, MODELO 42VFCA/22M5, FRIO, COR BRANCA, 220V. ACOMPANHA CONTROLE REMOTO, MANUAL, ACESSÓRIOS E UNIDADE CONDENSADORA.', 'conservacao': 'EM USO', 'incorporacao': '18/11/2016', 'transf_local': '21/05/2019', 'valor': 4320, 'situacao': 'Ativo', 'peso': '', 'medidas': ''}, 'key': 533245, 'meta': {'inteiro': True, 'updated': '07/08/2023 17:02:55', 'partes': [], 'volumado': False, 'volume': None}, 'tipo': 'Permanente', 'short_descricao': 'CONDICIONADOR DE AR SPLIT INVERTER'}\n",
      "{'responsavel': 'Ana Julia Dal Forno', 'ambiente': 'A401', 'edificio': 'BNU02 - Bloco Acadêmico A', 'detalhes': {'patrimonio': 543897, 'n_controle': nan, 'cod_barras': 337960, 'n_serie': nan, 'descricao': 'CADEIRA ESCOLAR UNIVERSITÁRIA - CADEIRA ESCOLAR COM PRANCHETA FIXA EM MDF, ASSENTO E ENCOSTO EM COMPENSADO E ESPUMA, REVESTIDO NA COR AZUL ROYAL. ESTRUTURA CONFECCIONADA EM TUBO DE AÇO PINTADO EM PRETO.', 'conservacao': 'EM USO', 'incorporacao': '12/02/2018', 'transf_local': '16/11/2022', 'valor': 140, 'situacao': 'Ativo', 'peso': '', 'medidas': ''}, 'key': 543897, 'meta': {'inteiro': True, 'updated': '07/08/2023 17:02:55', 'partes': [], 'volumado': False, 'volume': None}, 'tipo': 'Permanente', 'short_descricao': 'CADEIRA ESCOLAR UNIVERSITÁRIA'}\n",
      "{'responsavel': 'Ana Julia Dal Forno', 'ambiente': 'B123', 'edificio': 'BNU03 - Bloco Acadêmico B', 'detalhes': {'patrimonio': 547801, 'n_controle': nan, 'cod_barras': 338243, 'n_serie': nan, 'descricao': 'QUADRO BRANCO 300 CM X 120 CM - QUADRICULADO, EM ESTRUTURA DE ALUMINIO, P/USO PINCEL ATÔMICO, C/SUPORTE P/ APAGADOR, SUPORTE P/FIXAR NA PAREDE.', 'conservacao': 'EM USO', 'incorporacao': '20/08/2018', 'transf_local': '21/05/2019', 'valor': 424.15, 'situacao': 'Ativo', 'peso': '', 'medidas': '300 CMX120 CM'}, 'key': 547801, 'meta': {'inteiro': True, 'updated': '07/08/2023 17:02:55', 'partes': [], 'volumado': False, 'volume': None}, 'tipo': 'Permanente', 'short_descricao': 'QUADRO BRANCO 300 CM X 120 CM'}\n"
     ]
    }
   ],
   "source": [
    "nao_inteiros = db.collection(\"items\").where(filter=FieldFilter(\"meta.inteiro\", \"==\", False))\n",
    "\n",
    "for doc in nao_inteiros.stream():\n",
    "    doc.reference.set(find_permanente_by_key(int(doc.id)))"
   ]
  },
  {
   "cell_type": "code",
   "execution_count": null,
   "metadata": {},
   "outputs": [],
   "source": []
  }
 ],
 "metadata": {
  "kernelspec": {
   "display_name": "pythonSDK-zBAoyeeM",
   "language": "python",
   "name": "python3"
  },
  "language_info": {
   "codemirror_mode": {
    "name": "ipython",
    "version": 3
   },
   "file_extension": ".py",
   "mimetype": "text/x-python",
   "name": "python",
   "nbconvert_exporter": "python",
   "pygments_lexer": "ipython3",
   "version": "3.10.8"
  },
  "orig_nbformat": 4
 },
 "nbformat": 4,
 "nbformat_minor": 2
}
